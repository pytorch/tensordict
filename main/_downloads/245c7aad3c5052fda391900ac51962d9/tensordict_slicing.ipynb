{
  "cells": [
    {
      "cell_type": "markdown",
      "metadata": {},
      "source": [
        "\n# Slicing, Indexing, and Masking\n**Author**: [Tom Begley](https://github.com/tcbegley)\n\nIn this tutorial you will learn how to slice, index, and mask a :class:`~.TensorDict`.\n"
      ]
    },
    {
      "cell_type": "markdown",
      "metadata": {},
      "source": [
        "As discussed in the tutorial\n[Manipulating the shape of a TensorDict](./tensordict_shapes.html), when we create a\n:class:`~.TensorDict` we specify a ``batch_size``, which must agree\nwith the leading dimensions of all entries in the :class:`~.TensorDict`. Since we have\na guarantee that all entries share those dimensions in common, we are able to index\nand mask the batch dimensions in the same way that we would index a\n:class:`torch.Tensor`. The indices are applied along the batch dimensions to all of\nthe entries in the :class:`~.TensorDict`.\n\nFor example, given a :class:`~.TensorDict` with two batch dimensions,\n``tensordict[0]`` returns a new :class:`~.TensorDict` with the same structure, and\nwhose values correspond to the first \"row\" of each entry in the original\n:class:`~.TensorDict`.\n\n"
      ]
    },
    {
      "cell_type": "code",
      "execution_count": null,
      "metadata": {
        "collapsed": false
      },
      "outputs": [],
      "source": [
        "import torch\nfrom tensordict import TensorDict\n\ntensordict = TensorDict(\n    {\"a\": torch.zeros(3, 4, 5), \"b\": torch.zeros(3, 4)}, batch_size=[3, 4]\n)\n\nprint(tensordict[0])"
      ]
    },
    {
      "cell_type": "markdown",
      "metadata": {},
      "source": [
        "The same syntax applies as for regular tensors. For example if we wanted to drop the\nfirst row of each entry we could index as follows\n\n"
      ]
    },
    {
      "cell_type": "code",
      "execution_count": null,
      "metadata": {
        "collapsed": false
      },
      "outputs": [],
      "source": [
        "print(tensordict[1:])"
      ]
    },
    {
      "cell_type": "markdown",
      "metadata": {},
      "source": [
        "We can index multiple dimensions simultaneously\n\n"
      ]
    },
    {
      "cell_type": "code",
      "execution_count": null,
      "metadata": {
        "collapsed": false
      },
      "outputs": [],
      "source": [
        "print(tensordict[:, 2:])"
      ]
    },
    {
      "cell_type": "markdown",
      "metadata": {},
      "source": [
        "We can also use ``Ellipsis`` to represent as many ``:`` as would be needed to make\nthe selection tuple the same length as ``tensordict.batch_dims``.\n\n"
      ]
    },
    {
      "cell_type": "code",
      "execution_count": null,
      "metadata": {
        "collapsed": false
      },
      "outputs": [],
      "source": [
        "print(tensordict[..., 2:])"
      ]
    },
    {
      "cell_type": "markdown",
      "metadata": {},
      "source": [
        ".. note:\n\n   Remember that all indexing is applied relative to the batch dimensions. In the\n   above example there is a difference between ``tensordict[\"a\"][..., 2:]`` and\n   ``tensordict[..., 2:][\"a\"]``. The first retrieves the three-dimensional tensor\n   stored under the key ``\"a\"`` and applies the index ``2:`` to the final dimension.\n   The second applies the index ``2:`` to the final *batch dimension*, which is the\n   second dimension, before retrieving the result.\n\n## Setting Values with Indexing\nIn general, ``tensordict[index] = new_tensordict`` will work as long as the batch\nsizes are compatible.\n\n"
      ]
    },
    {
      "cell_type": "code",
      "execution_count": null,
      "metadata": {
        "collapsed": false
      },
      "outputs": [],
      "source": [
        "tensordict = TensorDict(\n    {\"a\": torch.zeros(3, 4, 5), \"b\": torch.zeros(3, 4)}, batch_size=[3, 4]\n)\n\ntd2 = TensorDict({\"a\": torch.ones(2, 4, 5), \"b\": torch.ones(2, 4)}, batch_size=[2, 4])\ntensordict[:-1] = td2\nprint(tensordict[\"a\"], tensordict[\"b\"])"
      ]
    },
    {
      "cell_type": "markdown",
      "metadata": {},
      "source": [
        "## Masking\nWe mask :class:`TensorDict` as we mask tensors.\n\n"
      ]
    },
    {
      "cell_type": "code",
      "execution_count": null,
      "metadata": {
        "collapsed": false
      },
      "outputs": [],
      "source": [
        "mask = torch.BoolTensor([[1, 0, 1, 0], [1, 0, 1, 0], [1, 0, 1, 0]])\ntensordict[mask]"
      ]
    }
  ],
  "metadata": {
    "kernelspec": {
      "display_name": "Python 3",
      "language": "python",
      "name": "python3"
    },
    "language_info": {
      "codemirror_mode": {
        "name": "ipython",
        "version": 3
      },
      "file_extension": ".py",
      "mimetype": "text/x-python",
      "name": "python",
      "nbconvert_exporter": "python",
      "pygments_lexer": "ipython3",
      "version": "3.10.18"
    }
  },
  "nbformat": 4,
  "nbformat_minor": 0
}