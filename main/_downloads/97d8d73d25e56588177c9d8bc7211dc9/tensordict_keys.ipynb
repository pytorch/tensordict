{
  "cells": [
    {
      "cell_type": "markdown",
      "metadata": {},
      "source": [
        "\n# Manipulating the keys of a TensorDict\n**Author**: [Tom Begley](https://github.com/tcbegley)\n\nIn this tutorial you will learn how to work with and manipulate the keys in a\n``TensorDict``, including getting and setting keys, iterating over keys, manipulating\nnested values, and flattening the keys.\n"
      ]
    },
    {
      "cell_type": "markdown",
      "metadata": {},
      "source": [
        "## Setting and getting keys\nWe can set and get keys using the same syntax as a Python ``dict``\n\n"
      ]
    },
    {
      "cell_type": "code",
      "execution_count": null,
      "metadata": {
        "collapsed": false
      },
      "outputs": [],
      "source": [
        "import torch\nfrom tensordict.tensordict import TensorDict\n\ntensordict = TensorDict()\n\n# set a key\na = torch.rand(10)\ntensordict[\"a\"] = a\n\n# retrieve the value stored under \"a\"\nassert tensordict[\"a\"] is a"
      ]
    },
    {
      "cell_type": "markdown",
      "metadata": {},
      "source": [
        "<div class=\"alert alert-info\"><h4>Note</h4><p>Unlike a Python ``dict``, all keys in the ``TensorDict`` must be strings. However\n   as we will see, it is also possible to use tuples of strings to manipulate nested\n   values.</p></div>\n\nWe can also use the methods ``.get()`` and ``.set`` to accomplish the same thing.\n\n"
      ]
    },
    {
      "cell_type": "code",
      "execution_count": null,
      "metadata": {
        "collapsed": false
      },
      "outputs": [],
      "source": [
        "tensordict = TensorDict()\n\n# set a key\na = torch.rand(10)\ntensordict.set(\"a\", a)\n\n# retrieve the value stored under \"a\"\nassert tensordict.get(\"a\") is a"
      ]
    },
    {
      "cell_type": "markdown",
      "metadata": {},
      "source": [
        "Like ``dict``, we can provide a default value to ``get`` that should be returned in\ncase the requested key is not found.\n\n"
      ]
    },
    {
      "cell_type": "code",
      "execution_count": null,
      "metadata": {
        "collapsed": false
      },
      "outputs": [],
      "source": [
        "assert tensordict.get(\"banana\", a) is a"
      ]
    },
    {
      "cell_type": "markdown",
      "metadata": {},
      "source": [
        "Similarly, like ``dict``, we can use the :meth:`TensorDict.setdefault` to get the\nvalue of a particular key, returning a default value if that key is not found, and\nalso setting that value in the :class:`~.TensorDict`.\n\n"
      ]
    },
    {
      "cell_type": "code",
      "execution_count": null,
      "metadata": {
        "collapsed": false
      },
      "outputs": [],
      "source": [
        "assert tensordict.setdefault(\"banana\", a) is a\n# a is now stored under \"banana\"\nassert tensordict[\"banana\"] is a"
      ]
    },
    {
      "cell_type": "markdown",
      "metadata": {},
      "source": [
        "Deleting keys is also achieve in the same way as a Python ``dict``, using the ``del``\nstatement and the chosen key. Equivalently we could use the\n:meth:`TensorDict.del_ <tensordict.TensorDict.del_>` method.\n\n"
      ]
    },
    {
      "cell_type": "code",
      "execution_count": null,
      "metadata": {
        "collapsed": false
      },
      "outputs": [],
      "source": [
        "del tensordict[\"banana\"]"
      ]
    },
    {
      "cell_type": "markdown",
      "metadata": {},
      "source": [
        "Furthermore, when setting keys with ``.set()`` we can use the keyword argument\n``inplace=True`` to make an inplace update, or equivalently use the ``.set_()``\nmethod.\n\n"
      ]
    },
    {
      "cell_type": "code",
      "execution_count": null,
      "metadata": {
        "collapsed": false
      },
      "outputs": [],
      "source": [
        "tensordict.set(\"a\", torch.zeros(10), inplace=True)\n\n# all the entries of the \"a\" tensor are now zero\nassert (tensordict.get(\"a\") == 0).all()\n# but it's still the same tensor as before\nassert tensordict.get(\"a\") is a\n\n# we can achieve the same with set_\ntensordict.set_(\"a\", torch.ones(10))\nassert (tensordict.get(\"a\") == 1).all()\nassert tensordict.get(\"a\") is a"
      ]
    },
    {
      "cell_type": "markdown",
      "metadata": {},
      "source": [
        "## Renaming keys\nTo rename a key, simply use the\n:meth:`TensorDict.rename_key_ <tensordict.TensorDict.rename_key_>` method. The value\nstored under the original key will remain in the :class:`~.TensorDict`, but the key\nwill be changed to the specified new key.\n\n"
      ]
    },
    {
      "cell_type": "code",
      "execution_count": null,
      "metadata": {
        "collapsed": false
      },
      "outputs": [],
      "source": [
        "tensordict.rename_key_(\"a\", \"b\")\nassert tensordict.get(\"b\") is a\nprint(tensordict)"
      ]
    },
    {
      "cell_type": "markdown",
      "metadata": {},
      "source": [
        "## Updating multiple values\nThe :meth:`TensorDict.update <tensordict.TensorDict.update>` method can be used to\nupdate a :class:`TensorDict`` with another one or with a ``dict``. Keys that already\nexist are overwritten, and keys that do not already exist are created.\n\n"
      ]
    },
    {
      "cell_type": "code",
      "execution_count": null,
      "metadata": {
        "collapsed": false
      },
      "outputs": [],
      "source": [
        "tensordict = TensorDict({\"a\": torch.rand(10), \"b\": torch.rand(10)}, [10])\ntensordict.update(TensorDict({\"a\": torch.zeros(10), \"c\": torch.zeros(10)}, [10]))\nassert (tensordict[\"a\"] == 0).all()\nassert (tensordict[\"b\"] != 0).all()\nassert (tensordict[\"c\"] == 0).all()\nprint(tensordict)"
      ]
    },
    {
      "cell_type": "markdown",
      "metadata": {},
      "source": [
        "## Nested values\nThe values of a ``TensorDict`` can themselves be a ``TensorDict``. We can add nested\nvalues during instantiation, either by adding ``TensorDict`` directly, or using nested\ndictionaries\n\n"
      ]
    },
    {
      "cell_type": "code",
      "execution_count": null,
      "metadata": {
        "collapsed": false
      },
      "outputs": [],
      "source": [
        "# creating nested values with a nested dict\nnested_tensordict = TensorDict(\n    {\"a\": torch.rand(2, 3), \"double_nested\": {\"a\": torch.rand(2, 3)}}, [2, 3]\n)\n# creating nested values with a TensorDict\ntensordict = TensorDict({\"a\": torch.rand(2), \"nested\": nested_tensordict}, [2])\n\nprint(tensordict)"
      ]
    },
    {
      "cell_type": "markdown",
      "metadata": {},
      "source": [
        "To access these nested values, we can use tuples of strings. For example\n\n"
      ]
    },
    {
      "cell_type": "code",
      "execution_count": null,
      "metadata": {
        "collapsed": false
      },
      "outputs": [],
      "source": [
        "double_nested_a = tensordict[\"nested\", \"double_nested\", \"a\"]\nnested_a = tensordict.get((\"nested\", \"a\"))"
      ]
    },
    {
      "cell_type": "markdown",
      "metadata": {},
      "source": [
        "Similarly we can set nested values using tuples of strings\n\n"
      ]
    },
    {
      "cell_type": "code",
      "execution_count": null,
      "metadata": {
        "collapsed": false
      },
      "outputs": [],
      "source": [
        "tensordict[\"nested\", \"double_nested\", \"b\"] = torch.rand(2, 3)\ntensordict.set((\"nested\", \"b\"), torch.rand(2, 3))\n\nprint(tensordict)"
      ]
    },
    {
      "cell_type": "markdown",
      "metadata": {},
      "source": [
        "## Iterating over a TensorDict's contents\nWe can iterate over the keys of a ``TensorDict`` using the ``.keys()`` method.\n\n"
      ]
    },
    {
      "cell_type": "code",
      "execution_count": null,
      "metadata": {
        "collapsed": false
      },
      "outputs": [],
      "source": [
        "for key in tensordict.keys():\n    print(key)"
      ]
    },
    {
      "cell_type": "markdown",
      "metadata": {},
      "source": [
        "By default this will iterate only over the top-level keys in the ``TensorDict``,\nhowever it is possible to recursively iterate over all of the keys in the\n``TensorDict`` with the keyword argument ``include_nested=True``. This will iterate\nrecursively over all keys in any nested TensorDicts, returning nested keys as tuples\nof strings.\n\n"
      ]
    },
    {
      "cell_type": "code",
      "execution_count": null,
      "metadata": {
        "collapsed": false
      },
      "outputs": [],
      "source": [
        "for key in tensordict.keys(include_nested=True):\n    print(key)"
      ]
    },
    {
      "cell_type": "markdown",
      "metadata": {},
      "source": [
        "In case you want to only iterate over keys corresponding to ``Tensor`` values, you can\nadditionally specify ``leaves_only=True``.\n\n"
      ]
    },
    {
      "cell_type": "code",
      "execution_count": null,
      "metadata": {
        "collapsed": false
      },
      "outputs": [],
      "source": [
        "for key in tensordict.keys(include_nested=True, leaves_only=True):\n    print(key)"
      ]
    },
    {
      "cell_type": "markdown",
      "metadata": {},
      "source": [
        "Much like ``dict``, there are also ``.values`` and ``.items`` methods which accept the\nsame keyword arguments.\n\n"
      ]
    },
    {
      "cell_type": "code",
      "execution_count": null,
      "metadata": {
        "collapsed": false
      },
      "outputs": [],
      "source": [
        "for key, value in tensordict.items(include_nested=True):\n    if isinstance(value, TensorDict):\n        print(f\"{key} is a TensorDict\")\n    else:\n        print(f\"{key} is a Tensor\")"
      ]
    },
    {
      "cell_type": "markdown",
      "metadata": {},
      "source": [
        "## Checking for existence of a key\nTo check if a key exists in a ``TensorDict``, use the ``in`` operator in conjunction\nwith ``.keys()``.\n\n<div class=\"alert alert-info\"><h4>Note</h4><p>Performing ``key in tensordict.keys()`` does efficient ``dict`` lookups of keys\n   (recursively at each level in the nested case), and so performance is not\n   negatively impacted when there is a large number of keys in the ``TensorDict``.</p></div>\n\n"
      ]
    },
    {
      "cell_type": "code",
      "execution_count": null,
      "metadata": {
        "collapsed": false
      },
      "outputs": [],
      "source": [
        "assert \"a\" in tensordict.keys()\n# to check for nested keys, set include_nested=True\nassert (\"nested\", \"a\") in tensordict.keys(include_nested=True)\nassert (\"nested\", \"banana\") not in tensordict.keys(include_nested=True)"
      ]
    },
    {
      "cell_type": "markdown",
      "metadata": {},
      "source": [
        "## Flattening and unflattening nested keys\nWe can flatten a ``TensorDict`` with nested values using the ``.flatten_keys()``\nmethod.\n\n"
      ]
    },
    {
      "cell_type": "code",
      "execution_count": null,
      "metadata": {
        "collapsed": false
      },
      "outputs": [],
      "source": [
        "print(tensordict, end=\"\\n\\n\")\nprint(tensordict.flatten_keys(separator=\".\"))"
      ]
    },
    {
      "cell_type": "markdown",
      "metadata": {},
      "source": [
        "Given a ``TensorDict`` that has been flattened, it is possible to unflatten it again\nwith the ``.unflatten_keys()`` method.\n\n"
      ]
    },
    {
      "cell_type": "code",
      "execution_count": null,
      "metadata": {
        "collapsed": false
      },
      "outputs": [],
      "source": [
        "flattened_tensordict = tensordict.flatten_keys(separator=\".\")\nprint(flattened_tensordict, end=\"\\n\\n\")\nprint(flattened_tensordict.unflatten_keys(separator=\".\"))"
      ]
    },
    {
      "cell_type": "markdown",
      "metadata": {},
      "source": [
        "This can be particularly useful when manipulating the parameters of a\n:class:`torch.nn.Module`, as we can end up with a :class:`~.TensorDict` whose\nstructure mimics the module structure.\n\n"
      ]
    },
    {
      "cell_type": "code",
      "execution_count": null,
      "metadata": {
        "collapsed": false
      },
      "outputs": [],
      "source": [
        "import torch.nn as nn\n\nmodule = nn.Sequential(\n    nn.Sequential(nn.Linear(100, 50), nn.Linear(50, 10)),\n    nn.Linear(10, 1),\n)\nparams = TensorDict(dict(module.named_parameters()), []).unflatten_keys()\n\nprint(params)"
      ]
    },
    {
      "cell_type": "markdown",
      "metadata": {},
      "source": [
        "## Selecting and excluding keys\nWe can obtain a new :class:`~.TensorDict` with a subset of the keys by using\n:meth:`TensorDict.select <tensordict.TensorDict.select>`, which returns a new\n:class:`~.TensorDict` containing only the specified keys, or\n:meth: `TensorDict.exclude <tensordict.TensorDict.exclude>`, which returns a new\n:class:`~.TensorDict` with the specified keys omitted.\n\n"
      ]
    },
    {
      "cell_type": "code",
      "execution_count": null,
      "metadata": {
        "collapsed": false
      },
      "outputs": [],
      "source": [
        "print(\"Select:\")\nprint(tensordict.select(\"a\", (\"nested\", \"a\")), end=\"\\n\\n\")\nprint(\"Exclude:\")\nprint(tensordict.exclude((\"nested\", \"b\"), (\"nested\", \"double_nested\")))"
      ]
    }
  ],
  "metadata": {
    "kernelspec": {
      "display_name": "Python 3",
      "language": "python",
      "name": "python3"
    },
    "language_info": {
      "codemirror_mode": {
        "name": "ipython",
        "version": 3
      },
      "file_extension": ".py",
      "mimetype": "text/x-python",
      "name": "python",
      "nbconvert_exporter": "python",
      "pygments_lexer": "ipython3",
      "version": "3.10.18"
    }
  },
  "nbformat": 4,
  "nbformat_minor": 0
}